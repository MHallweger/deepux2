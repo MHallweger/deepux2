{
 "cells": [
  {
   "cell_type": "code",
   "execution_count": null,
   "metadata": {},
   "outputs": [],
   "source": [
    "import pandas as pd\n",
    "import seaborn as sns\n",
    "import matplotlib.pyplot as plt\n",
    "import matplotlib.image as mpimg\n",
    "import math\n",
    "import datetime\n",
    "import numpy as np\n",
    "\n",
    "%matplotlib inline\n",
    "plt.rcParams['figure.figsize'] = (20, 8)\n",
    "sns.set_style(\"whitegrid\")"
   ]
  },
  {
   "cell_type": "code",
   "execution_count": null,
   "metadata": {},
   "outputs": [],
   "source": [
    "IMAGE_PATH = r\"../data/diagrams\"\n",
    "SAVE_IMAGES = True\n",
    "\n",
    "if SAVE_IMAGES:\n",
    "    import os\n",
    "    if not os.path.exists(IMAGE_PATH): os.makedirs(IMAGE_PATH)"
   ]
  },
  {
   "cell_type": "markdown",
   "metadata": {},
   "source": [
    "## Read data"
   ]
  },
  {
   "cell_type": "code",
   "execution_count": null,
   "metadata": {
    "tags": []
   },
   "outputs": [],
   "source": [
    "rico_dateparser = lambda x: pd.to_datetime(x, format=\"%B %d, %Y\", errors='coerce')\n",
    "\n",
    "df_app_details = pd.read_csv('../data/app_details.csv', parse_dates=[\"Date Updated\"], date_parser=rico_dateparser)\n",
    "df_app_details.drop(\"Icon URL\", axis=1, inplace=True)\n",
    "\n",
    "#Fix error in data which prevents automatic float parsing\n",
    "df_app_details[\"Number of Ratings\"] = pd.to_numeric(df_app_details[\"Number of Ratings\"], errors='coerce')\n",
    "\n",
    "for column in [\"Category\",\"Number of Downloads\",\"Average Rating\"]:\n",
    "    df_app_details[column] = df_app_details[column].astype('category')\n",
    "\n",
    "df_app_details.rename(columns={'App Package Name': 'package_name'}, inplace=True)\n",
    "df_app_details.columns = [column.replace(\" \",\"_\").lower() for column in df_app_details.columns]\n",
    "\n",
    "#df_app_details.info(verbose=True)"
   ]
  },
  {
   "cell_type": "code",
   "execution_count": null,
   "metadata": {},
   "outputs": [],
   "source": [
    "df_analysis = pd.read_csv('../data/mass_evaluations.csv')\n",
    "\n",
    "categories = [column for column in df_analysis if column.endswith(\"_meaning\") or column.endswith(\"_evaluation\")]\n",
    "categories.append(\"package_name\")\n",
    "for column in categories:\n",
    "    df_analysis[column] = df_analysis[column].astype('category')\n",
    "  \n",
    "#df_analysis.info(verbose=True)"
   ]
  },
  {
   "cell_type": "markdown",
   "metadata": {},
   "source": [
    "Dict with metric thresholds"
   ]
  },
  {
   "cell_type": "code",
   "execution_count": null,
   "metadata": {},
   "outputs": [],
   "source": [
    "metric_data = {\n",
    "    \"distinct_rgb_values\": [\n",
    "        {\"values\": (None,5000), \"meaning\": \"Less colourful\", \"evaluation\": \"normal\"},\n",
    "        {\"values\": (5000, 15000), \"meaning\": \"Fair\", \"evaluation\": \"good\"},\n",
    "        {\"values\": (15000,), \"meaning\": \"Colourful\", \"evaluation\": \"normal\"}\n",
    "    ],\n",
    "    \"figure_ground_contrast\": [\n",
    "        {\"values\": (None, 0.3), \"meaning\": \"Low contrast\", \"evaluation\": \"bad\"},\n",
    "        {\"values\": (0.3, 0.7), \"meaning\": \"Fair\", \"evaluation\": \"good\"},\n",
    "        {\"values\": (0.7,), \"meaning\": \"High contrast\", \"evaluation\": \"bad\"}\n",
    "    ],\n",
    "    \"white_space\": [\n",
    "        {\"values\": (None, 0.3), \"meaning\": \"Low\", \"evaluation\": \"bad\"},\n",
    "        {\"values\": (0.3, 0.8), \"meaning\": \"Good\", \"evaluation\": \"good\"},\n",
    "        {\"values\": (0.8,), \"meaning\": \"High\", \"evaluation\": \"bad\"}\n",
    "    ],\n",
    "    \"grid_quality\": [\n",
    "        {\"values\": (None, 100), \"meaning\": \"Low\", \"evaluation\": \"bad\"},\n",
    "        {\"values\": (100, 220), \"meaning\": \"Medium\", \"evaluation\": \"good\"},\n",
    "        {\"values\": (220,), \"meaning\": \"High\", \"evaluation\": \"bad\"}\n",
    "    ],\n",
    "    \"colourfulness\": [\n",
    "        {\"values\": (None, 50.00), \"meaning\": \"Less colourful\", \"evaluation\": \"normal\"},\n",
    "        {\"values\": (50.00, 100.00), \"meaning\": \"Fair\", \"evaluation\": \"normal\"},\n",
    "        {\"values\": (100,), \"meaning\": \"Colourful\", \"evaluation\": \"normal\"}\n",
    "    ],  \n",
    "    \"hsv_colours_avgSaturation\": [\n",
    "        {\"values\": (None, 0.10), \"meaning\": \"Low\", \"evaluation\": \"bad\"},\n",
    "        {\"values\": (0.10, 0.60), \"meaning\": \"Medium\", \"evaluation\": \"good\"},\n",
    "        {\"values\": (0.60,), \"meaning\": \"High\", \"evaluation\": \"bad\"}\n",
    "    ], \n",
    "    \"hsv_colours_stdSaturation\": [\n",
    "        {\"values\": (None, 0.20), \"meaning\": \"Low\", \"evaluation\": \"bad\"},\n",
    "        {\"values\": (0.20, 0.40), \"meaning\": \"Medium\", \"evaluation\": \"good\"},\n",
    "        {\"values\": (0.40,), \"meaning\": \"High\", \"evaluation\": \"bad\"}\n",
    "    ],     \n",
    "    \"hsv_colours_avgValue\": [\n",
    "        {\"values\": (None, 0.40), \"meaning\": \"Dark\", \"evaluation\": \"normal\"},\n",
    "        {\"values\": (0.40, 0.80), \"meaning\": \"Medium\", \"evaluation\": \"normal\"},\n",
    "        {\"values\": (0.80,), \"meaning\": \"Light\", \"evaluation\": \"bad\"}\n",
    "    ],  \n",
    "    \"hsv_colours_stdValue\": [\n",
    "        {\"values\": (None, 0.15), \"meaning\": \"Low\", \"evaluation\": \"bad\"},\n",
    "        {\"values\": (0.15, 0.35), \"meaning\": \"Medium\", \"evaluation\": \"good\"},\n",
    "        {\"values\": (0.35,), \"meaning\": \"High\", \"evaluation\": \"bad\"}\n",
    "    ],\n",
    "    \"hsv_unique\": [\n",
    "        {\"values\": (None, 20000), \"meaning\": \"Good\", \"evaluation\": \"good\"},\n",
    "        {\"values\": (20000,), \"meaning\": \"Potential varied\", \"evaluation\": \"normal\"}\n",
    "    ],\n",
    "    \"lab_avg_meanLEvaluation\": [\n",
    "        {\"values\": (None, 40.00), \"meaning\": \"Dark\", \"evaluation\": \"normal\"},\n",
    "        {\"values\": (40.00, 75.00), \"meaning\": \"Medium\", \"evaluation\": \"good\"},\n",
    "        {\"values\": (75.00,), \"meaning\": \"Light\", \"evaluation\": \"normal\"}\n",
    "    ], \n",
    "    \"lab_avg_stdLEvaluation\": [\n",
    "        {\"values\": (None, 15.00), \"meaning\": \"Low\", \"evaluation\": \"bad\"},\n",
    "        {\"values\": (15.00, 35.00), \"meaning\": \"Medium\", \"evaluation\": \"good\"},\n",
    "        {\"values\": (35.00,), \"meaning\": \"high\", \"evaluation\": \"bad\"}\n",
    "    ],\n",
    "    \"static_colour_clusters\": [\n",
    "        {\"values\": (None, 4000), \"meaning\": \"Less colourful\", \"evaluation\": \"normal\"},\n",
    "        {\"values\": (4000, 8000), \"meaning\": \"Fair\", \"evaluation\": \"normal\"},\n",
    "        {\"values\": (8000,), \"meaning\": \"Colourful\", \"evaluation\": \"normal\"}\n",
    "    ], \n",
    "    \"dynamic_colour_clusters\": [\n",
    "        {\"values\": (None, 500), \"meaning\": \"Less colourful\", \"evaluation\": \"normal\"},\n",
    "        {\"values\": (500, 1000), \"meaning\": \"Fair\", \"evaluation\": \"normal\"},\n",
    "        {\"values\": (1000,), \"meaning\": \"Colourful\", \"evaluation\": \"normal\"}\n",
    "    ], \n",
    "    \"luminance_sd\": [\n",
    "        {\"values\": (None, 60.00), \"meaning\": \"Good\", \"evaluation\": \"good\"},\n",
    "        {\"values\": (60.00, 90.00), \"meaning\": \"Acceptable\", \"evaluation\": \"normal\"},\n",
    "        {\"values\": (90.00,), \"meaning\": \"Potential varied\", \"evaluation\": \"bad\"}\n",
    "    ], \n",
    "    \"wave\": [\n",
    "        {\"values\": (None, 0.54), \"meaning\": \"Low\", \"evaluation\": \"bad\"},\n",
    "        {\"values\": (0.54,), \"meaning\": \"Good\", \"evaluation\": \"good\"}\n",
    "    ], \n",
    "    \"contour_density\": [\n",
    "        {\"values\": (None, 0.12), \"meaning\": \"Good\", \"evaluation\": \"good\"},\n",
    "        {\"values\": (0.12, 0.22), \"meaning\": \"Fair\", \"evaluation\": \"normal\"},\n",
    "        {\"values\": (0.22,), \"meaning\": \"Poor\", \"evaluation\": \"bad\"}\n",
    "    ], \n",
    "    \"contour_congestion\": [\n",
    "        {\"values\": (None, 0.25), \"meaning\": \"Good\", \"evaluation\": \"good\"},\n",
    "        {\"values\": (0.25, 0.50), \"meaning\": \"Fair\", \"evaluation\": \"normal\"},\n",
    "        {\"values\": (0.50,), \"meaning\": \"Poor\", \"evaluation\": \"bad\"}\n",
    "    ], \n",
    "    \"pixel_symmetry\": [\n",
    "        {\"values\": (None, 1.00), \"meaning\": \"Good\", \"evaluation\": \"good\"},\n",
    "        {\"values\": (1.00,), \"meaning\": \"Poor\", \"evaluation\": \"bad\"}\n",
    "    ], \n",
    "    \"quadtree_decomposition_balance\": [\n",
    "        {\"values\": (None, 0.65), \"meaning\": \"Potential unbalanced\", \"evaluation\": \"bad\"},\n",
    "        {\"values\": (0.65,), \"meaning\": \"Balanced\", \"evaluation\": \"good\"}\n",
    "    ], \n",
    "    \"quadtree_decomposition_symmetry\": [\n",
    "        {\"values\": (None, 0.50), \"meaning\": \"Poor\", \"evaluation\": \"bad\"},\n",
    "        {\"values\": (0.50,), \"meaning\": \"Acceptable\", \"evaluation\": \"good\"}\n",
    "    ], \n",
    "    \"quadtree_decomposition_equilibrium\": [\n",
    "        {\"values\": (None, 0.65), \"meaning\": \"Not centralized\", \"evaluation\": \"bad\"},\n",
    "        {\"values\": (0.65,), \"meaning\": \"Centralized\", \"evaluation\": \"good\"}\n",
    "    ],\n",
    "    \"quadtree_decomposition_numberOfLeaves\": [\n",
    "        {\"values\": (None, 1500), \"meaning\": \"Good\", \"evaluation\": \"good\"},\n",
    "        {\"values\": (1500, 3200), \"meaning\": \"Fair\", \"evaluation\": \"normal\"},\n",
    "        {\"values\": (3200,), \"meaning\": \"Poor\", \"evaluation\": \"bad\"}\n",
    "    ] \n",
    "}"
   ]
  },
  {
   "cell_type": "markdown",
   "metadata": {},
   "source": [
    "### Merge dataframes"
   ]
  },
  {
   "cell_type": "code",
   "execution_count": null,
   "metadata": {},
   "outputs": [],
   "source": [
    "df = df_analysis.merge(df_app_details, on=\"package_name\", how='left')\n",
    "for column in [\"package_name\",\"play_store_name\"]:\n",
    "    df[column] = df[column].astype('category')\n",
    "\n",
    "    \n",
    "eval_columns = [column for column in df.columns if column.endswith(\"_evaluation\")]\n",
    "value_columns = [column for column in df.columns if column.endswith(\"_value\")]\n",
    "time_columns = [column for column in df.columns if column.endswith(\"_time\")]\n",
    "\n",
    "df[\"count_bad\"] = df[eval_columns].eq(\"bad\").sum(axis=1)\n",
    "df[\"count_normal\"] = df[eval_columns].eq(\"normal\").sum(axis=1)\n",
    "df[\"count_good\"] = df[eval_columns].eq(\"good\").sum(axis=1)\n",
    "\n",
    "df.info(verbose=True)"
   ]
  },
  {
   "cell_type": "code",
   "execution_count": null,
   "metadata": {},
   "outputs": [],
   "source": [
    "df.head()"
   ]
  },
  {
   "cell_type": "markdown",
   "metadata": {},
   "source": [
    "## Analyzation"
   ]
  },
  {
   "cell_type": "markdown",
   "metadata": {},
   "source": [
    "### Data Overview"
   ]
  },
  {
   "cell_type": "code",
   "execution_count": null,
   "metadata": {},
   "outputs": [],
   "source": [
    "print(\"Number of data entries: %d\" % len(df))\n",
    "print(\"Number of analysed metrics per image: %d\" % len(eval_columns))\n",
    "print(\"Number of unique apps: %d\" % len(df[\"package_name\"].cat.categories))"
   ]
  },
  {
   "cell_type": "markdown",
   "metadata": {},
   "source": [
    "#### Number of Screenshots per App Category"
   ]
  },
  {
   "cell_type": "code",
   "execution_count": null,
   "metadata": {
    "tags": []
   },
   "outputs": [],
   "source": [
    "sns.countplot(data=df, y=\"category\")"
   ]
  },
  {
   "cell_type": "markdown",
   "metadata": {},
   "source": [
    "### Metric analyzation"
   ]
  },
  {
   "cell_type": "markdown",
   "metadata": {},
   "source": [
    "#### Number of \"good\", \"normal\" and \"bad\" labels for each metric evaluation"
   ]
  },
  {
   "cell_type": "code",
   "execution_count": null,
   "metadata": {},
   "outputs": [],
   "source": [
    "rating_order = [\"bad\",\"normal\",\"good\"]\n",
    "\n",
    "df_melt = pd.melt(df)\n",
    "plt.figure(figsize=(20, 14))\n",
    "sns.countplot(data=df_melt.loc[df_melt[\"variable\"].str.contains(\"_evaluation\")], y='variable', hue='value', hue_order=rating_order)"
   ]
  },
  {
   "cell_type": "markdown",
   "metadata": {},
   "source": [
    "#### Boxplot for each metric"
   ]
  },
  {
   "cell_type": "code",
   "execution_count": null,
   "metadata": {},
   "outputs": [],
   "source": [
    "numeric_colums = df_analysis.select_dtypes(include=\"number\").columns\n",
    "numeric_colums = [column for column in numeric_colums if column.endswith(\"_value\")]\n",
    "list_0_1 = [column for column in numeric_colums if df_analysis[column].max() <= 1]\n",
    "if list_0_1: sns.boxplot(data=df_analysis[list_0_1], orient='h')"
   ]
  },
  {
   "cell_type": "code",
   "execution_count": null,
   "metadata": {},
   "outputs": [],
   "source": [
    "list_1_500 = [column for column in numeric_colums if 1 < df_analysis[column].max() <= 500]\n",
    "sns.boxplot(data=df_analysis[list_1_500], orient='h')"
   ]
  },
  {
   "cell_type": "code",
   "execution_count": null,
   "metadata": {},
   "outputs": [],
   "source": [
    "remaining_colums = [x for x in numeric_colums if x not in list_0_1 and x not in list_1_500]\n",
    "sns.boxplot(data=df_analysis[remaining_colums], orient='h')"
   ]
  },
  {
   "cell_type": "markdown",
   "metadata": {},
   "source": [
    "#### Mean values of each metric"
   ]
  },
  {
   "cell_type": "code",
   "execution_count": null,
   "metadata": {},
   "outputs": [],
   "source": [
    "df[value_columns].mean()"
   ]
  },
  {
   "cell_type": "markdown",
   "metadata": {},
   "source": [
    "#### Value distribution of each metric"
   ]
  },
  {
   "cell_type": "code",
   "execution_count": null,
   "metadata": {},
   "outputs": [],
   "source": [
    "axes_colums = 3\n",
    "axes_rows = math.ceil(len(value_columns) / axes_colums)\n",
    "metric_colors = {\"good\": \"g\", \"normal\": \"y\", \"bad\": \"r\"}\n",
    "\n",
    "if SAVE_IMAGES:\n",
    "    os.makedirs(IMAGE_PATH + \"/metricDistribution\")\n",
    "\n",
    "fig, axes = plt.subplots(axes_rows, axes_colums, figsize=(24, 5 * axes_rows))\n",
    "plt.subplots_adjust(hspace=0.25)\n",
    "for idx, column in enumerate(value_columns):\n",
    "    #print(\"%s,%s\" % ( math.floor(idx / axes_colums), idx % axes_colums )  )\n",
    "    ax = axes[math.floor(idx / axes_colums), idx % axes_colums]\n",
    "    g = sns.histplot(ax=ax, data=df, x=column, bins=30)\n",
    "\n",
    "    data_key = column[:-len(\"_value\")]\n",
    "    if data_key in metric_data:\n",
    "        data = metric_data[column[:-len(\"_value\")]]\n",
    "        for area in data:\n",
    "            area_min = area[\"values\"][0]\n",
    "            if not area_min:\n",
    "                area_min = ax.get_xlim()[0]\n",
    "            area_max = None\n",
    "            if(len(area[\"values\"]) > 1): \n",
    "                area_max = area[\"values\"][1]\n",
    "            else: \n",
    "                area_max = ax.get_xlim()[1]\n",
    "            if area_min > area_max: area_min = area_max\n",
    "\n",
    "            g.axvspan(area_min, area_max, color=metric_colors[area[\"evaluation\"]], alpha=0.3, zorder=-100)\n",
    "            g.text(area_max, ax.get_ylim()[1], area[\"meaning\"], horizontalalignment='right', verticalalignment='center')\n",
    "\n",
    "    if SAVE_IMAGES:\n",
    "        extent = ax.get_window_extent().transformed(fig.dpi_scale_trans.inverted())  \n",
    "        fig.savefig(IMAGE_PATH + \"/metricDistribution/%s.png\" % column, bbox_inches=extent.expanded(1.25, 1.25).translated(-0.12,-0.18))\n",
    "\n",
    "g"
   ]
  },
  {
   "cell_type": "markdown",
   "metadata": {},
   "source": [
    "## Per Screenshot and App analysis"
   ]
  },
  {
   "cell_type": "markdown",
   "metadata": {},
   "source": [
    "#### Number of metric evaluation labels grouped by app"
   ]
  },
  {
   "cell_type": "code",
   "execution_count": null,
   "metadata": {},
   "outputs": [],
   "source": [
    "df_counts = df.groupby('package_name')[['count_bad','count_normal','count_good']].sum()\n",
    "df_counts['total'] = df_counts.sum(axis=1)\n",
    "df_counts['package_percentage_bad'] = df_counts['count_bad'] / df_counts['total'] * 100\n",
    "df_counts['package_percentage_normal'] = df_counts['count_normal'] / df_counts['total'] * 100\n",
    "df_counts['package_percentage_good'] = df_counts['count_good'] / df_counts['total'] * 100\n",
    "df_counts.reset_index(inplace=True)\n",
    "\n",
    "df_counts = df_counts.loc[:,['package_name','package_percentage_bad','package_percentage_normal','package_percentage_good']]\n",
    "df = df.merge(df_counts, on=\"package_name\", how='left')\n",
    "\n",
    "df_counts.head(10)"
   ]
  },
  {
   "cell_type": "markdown",
   "metadata": {},
   "source": [
    "#### Percentage good and bad counts in relation to app rating"
   ]
  },
  {
   "cell_type": "code",
   "execution_count": null,
   "metadata": {},
   "outputs": [],
   "source": [
    "df_packages = df[['package_name','package_percentage_bad','package_percentage_normal','package_percentage_good','average_rating','number_of_ratings']].drop_duplicates(subset=['package_name'])\n",
    "\n",
    "df_packages = df_packages[df_packages['number_of_ratings'] >= 1000]\n",
    "df_packages['package_percentage_bad'] = pd.cut(df_packages['package_percentage_bad'], 10)\n",
    "df_packages['package_percentage_normal'] = pd.cut(df_packages['package_percentage_normal'], 10)\n",
    "df_packages['package_percentage_good'] = pd.cut(df_packages['package_percentage_good'], 10)\n",
    "df_packages.reset_index(inplace=True)\n",
    "\n",
    "\n",
    "df_packages_good = df_packages[['average_rating','package_percentage_good']].value_counts().reset_index(name='count')\n",
    "df_packages_good = pd.pivot_table(df_packages_good, index='package_percentage_good', columns='average_rating', values='count')\n",
    "df_packages_good.sort_index(ascending=False, inplace=True)\n",
    "\n",
    "sns.heatmap(data=df_packages_good, annot=True)"
   ]
  },
  {
   "cell_type": "code",
   "execution_count": null,
   "metadata": {},
   "outputs": [],
   "source": [
    "df_packages_bad = df_packages[['average_rating','package_percentage_bad']].value_counts().reset_index(name='count')\n",
    "df_packages_bad = pd.pivot_table(df_packages_bad, index='package_percentage_bad', columns='average_rating', values='count')\n",
    "df_packages_bad.sort_index(ascending=True, inplace=True)\n",
    "\n",
    "sns.heatmap(data=df_packages_bad, annot=True)"
   ]
  },
  {
   "cell_type": "markdown",
   "metadata": {},
   "source": [
    "#### Best and worst of all images"
   ]
  },
  {
   "cell_type": "code",
   "execution_count": null,
   "metadata": {},
   "outputs": [],
   "source": [
    "top_20_best = df[['image', 'count_good']].nlargest(20, 'count_good')\n",
    "sns.barplot(data=top_20_best[:10], x='image', y='count_good')"
   ]
  },
  {
   "cell_type": "code",
   "execution_count": null,
   "metadata": {},
   "outputs": [],
   "source": [
    "top_20_worst = df[['image', 'count_bad']].nlargest(20, 'count_bad')\n",
    "sns.barplot(data=top_20_worst[:10], x='image', y='count_bad')"
   ]
  },
  {
   "cell_type": "markdown",
   "metadata": {},
   "source": [
    "#### Best and worst images rendered"
   ]
  },
  {
   "cell_type": "code",
   "execution_count": null,
   "metadata": {},
   "outputs": [],
   "source": [
    "data = np.array([top_20_best, top_20_worst])\n",
    "\n",
    "f, axarr = plt.subplots(2,5,figsize=(24,16))\n",
    "axarr[0][2].set_title(\"Top 5 Best\")\n",
    "axarr[1][2].set_title(\"Top 5 Worst\")\n",
    "for i in range(0,len(axarr)):\n",
    "    for j in range(0,len(axarr[0])):\n",
    "        axarr[i][j].grid(False)\n",
    "        axarr[i][j].set_xticks([])\n",
    "        axarr[i][j].set_yticks([])\n",
    "\n",
    "        img_name = data[i][j][0]\n",
    "        axarr[i][j].imshow(mpimg.imread('../data/combined/%s' % img_name))\n",
    "\n",
    "        if i == 0:\n",
    "            axarr[i][j].set_xlabel(\"#%s: %s\" % (j + 1, img_name))\n",
    "        else:\n",
    "            axarr[i][j].set_xlabel(\"#%s: %s\" % (j + 1, img_name))\n"
   ]
  },
  {
   "cell_type": "markdown",
   "metadata": {},
   "source": [
    "#### Metrics for best image"
   ]
  },
  {
   "cell_type": "code",
   "execution_count": null,
   "metadata": {},
   "outputs": [],
   "source": [
    "def create_df_one_pic(image_name):\n",
    "    df_metric_per_pic = {'metric': [], 'value': [], 'evaluation': [], 'meaning': []}\n",
    "\n",
    "    for key, value in df[df[\"image\"] == image_name].to_dict('records')[0].items():\n",
    "        if key.endswith(\"_value\"): \n",
    "            plain_name = key[:-len(\"_value\")]\n",
    "            df_metric_per_pic['metric'].append(plain_name)\n",
    "            df_metric_per_pic['value'].append(value)\n",
    "\n",
    "        if key.endswith(\"_evaluation\"): df_metric_per_pic['evaluation'].append(value)\n",
    "        if key.endswith(\"_meaning\"): df_metric_per_pic['meaning'].append(value)\n",
    "\n",
    "    return pd.DataFrame(df_metric_per_pic)\n",
    "\n",
    "create_df_one_pic(top_20_best.iloc[0][0])"
   ]
  },
  {
   "cell_type": "markdown",
   "metadata": {},
   "source": [
    "#### Metrics for worst image"
   ]
  },
  {
   "cell_type": "code",
   "execution_count": null,
   "metadata": {},
   "outputs": [],
   "source": [
    "create_df_one_pic(top_20_worst.iloc[0][0])"
   ]
  },
  {
   "cell_type": "markdown",
   "metadata": {},
   "source": [
    "#### Top 5 to 15"
   ]
  },
  {
   "cell_type": "code",
   "execution_count": null,
   "metadata": {},
   "outputs": [],
   "source": [
    "data = np.array([top_20_best[5:], top_20_worst[5:]])\n",
    "\n",
    "f, axarr = plt.subplots(2,15,figsize=(24,6))\n",
    "axarr[0][7].set_title(\"Top 5-15 Best\")\n",
    "axarr[1][7].set_title(\"Top 5-15 Worst\")\n",
    "for i in range(0,len(axarr)):\n",
    "    for j in range(0,len(axarr[0])):\n",
    "        axarr[i][j].grid(False)\n",
    "        axarr[i][j].set_xticks([])\n",
    "        axarr[i][j].set_yticks([])\n",
    "\n",
    "        img_name = data[i][j][0]\n",
    "        axarr[i][j].imshow(mpimg.imread('../data/combined/%s' % img_name))\n",
    "\n",
    "        if i == 0:\n",
    "            axarr[i][j].set_xlabel(\"#%s: %s\" % (j + 6, img_name))\n",
    "        else:\n",
    "            axarr[i][j].set_xlabel(\"#%s: %s\" % (j + 6, img_name))"
   ]
  },
  {
   "cell_type": "markdown",
   "metadata": {},
   "source": [
    "### Execution times on the server machine\n",
    "On a linux VM with two worker threads (100% CPU load on both physical CPUs)"
   ]
  },
  {
   "cell_type": "code",
   "execution_count": null,
   "metadata": {},
   "outputs": [],
   "source": [
    "print(\"Total execution time for one image: %s\" % datetime.timedelta(seconds=df[time_columns].mean().sum()))"
   ]
  },
  {
   "cell_type": "code",
   "execution_count": null,
   "metadata": {},
   "outputs": [],
   "source": [
    "df[time_columns].mean().sort_values(ascending=False).map(lambda x: str(datetime.timedelta(seconds=x)))"
   ]
  },
  {
   "cell_type": "markdown",
   "metadata": {},
   "source": [
    "#### Highest execution times for metric \"dynamic_colour_clusters_time\""
   ]
  },
  {
   "cell_type": "code",
   "execution_count": null,
   "metadata": {},
   "outputs": [],
   "source": [
    "m = \"dynamic_colour_clusters_time\"\n",
    "largest = df[m].nlargest(7)\n",
    "data = df[df[m] >= largest.values[-1]][[\"image\",m]].sort_values(by=m, ascending=False).values\n",
    "\n",
    "f, axarr = plt.subplots(1,7,figsize=(24,10))\n",
    "axarr[3].set_title(\"Longest execution times for %s\" % m)\n",
    "for i in range(0,len(axarr)):\n",
    "        axarr[i].grid(False)\n",
    "        axarr[i].set_xticks([])\n",
    "        axarr[i].set_yticks([])\n",
    "\n",
    "        img_name = data[i][0]\n",
    "        axarr[i].imshow(mpimg.imread('../data/combined/%s' % img_name))\n",
    "        axarr[i].set_xlabel(\"#%s: %s\\nTime: %s\" % (i + 1, img_name, datetime.timedelta(seconds=data[i][1])))"
   ]
  },
  {
   "cell_type": "code",
   "execution_count": null,
   "metadata": {},
   "outputs": [],
   "source": []
  }
 ],
 "metadata": {
  "kernelspec": {
   "display_name": "Python 3",
   "language": "python",
   "name": "python3"
  },
  "language_info": {
   "codemirror_mode": {
    "name": "ipython",
    "version": 3
   },
   "file_extension": ".py",
   "mimetype": "text/x-python",
   "name": "python",
   "nbconvert_exporter": "python",
   "pygments_lexer": "ipython3",
   "version": "3.8.7-final"
  }
 },
 "nbformat": 4,
 "nbformat_minor": 2
}
